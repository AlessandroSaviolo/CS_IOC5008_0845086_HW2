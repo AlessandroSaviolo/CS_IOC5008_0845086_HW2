{
  "nbformat": 4,
  "nbformat_minor": 0,
  "metadata": {
    "colab": {
      "name": "gan.ipynb",
      "provenance": [],
      "collapsed_sections": [],
      "toc_visible": true
    },
    "kernelspec": {
      "name": "python3",
      "display_name": "Python 3"
    },
    "accelerator": "GPU"
  },
  "cells": [
    {
      "cell_type": "markdown",
      "metadata": {
        "id": "2-6XKhKePrCk",
        "colab_type": "text"
      },
      "source": [
        "# **Generative Adversarial Network model built for Homework 2**\n"
      ]
    },
    {
      "cell_type": "markdown",
      "metadata": {
        "id": "lCY26j7KPtsz",
        "colab_type": "text"
      },
      "source": [
        "### **0. Import modules**"
      ]
    },
    {
      "cell_type": "code",
      "metadata": {
        "id": "nqbRbD-HdRYw",
        "colab_type": "code",
        "colab": {}
      },
      "source": [
        "from google.colab import drive\n",
        "drive.mount('/content/drive')"
      ],
      "execution_count": 0,
      "outputs": []
    },
    {
      "cell_type": "code",
      "metadata": {
        "id": "F9mkiFJ3A5C9",
        "colab_type": "code",
        "colab": {}
      },
      "source": [
        "import math\n",
        "import os\n",
        "import hashlib\n",
        "from urllib.request import urlretrieve\n",
        "import zipfile\n",
        "import gzip\n",
        "import shutil\n",
        "import numpy as np\n",
        "from PIL import Image\n",
        "from tqdm import tqdm\n",
        "import cv2\n",
        "import matplotlib.pyplot as plt\n",
        "from glob import glob\n",
        "import tensorflow as tf\n",
        "from copy import deepcopy\n",
        "from unittest import mock\n",
        "import pandas as pd"
      ],
      "execution_count": 0,
      "outputs": []
    },
    {
      "cell_type": "markdown",
      "metadata": {
        "id": "lP2e4LeEPw86",
        "colab_type": "text"
      },
      "source": [
        "### **1. Load and Preprocess CelebA Dataset**"
      ]
    },
    {
      "cell_type": "markdown",
      "metadata": {
        "id": "AgBsI71_P_Pz",
        "colab_type": "text"
      },
      "source": [
        "Define the functions for extracting data from CelebA Dataset and preprocess it."
      ]
    },
    {
      "cell_type": "code",
      "metadata": {
        "id": "V6l-r-8hBU1f",
        "colab_type": "code",
        "colab": {}
      },
      "source": [
        "def _read32(bytestream):\n",
        "    \"\"\"\n",
        "    Read 32-bit integer from bytesteam\n",
        "    :param bytestream: A bytestream\n",
        "    :return: 32-bit integer\n",
        "    \"\"\"\n",
        "    dt = np.dtype(np.uint32).newbyteorder('>')\n",
        "    return np.frombuffer(bytestream.read(4), dtype=dt)[0]\n",
        "\n",
        "\n",
        "def _unzip(save_path, _, database_name, data_path):\n",
        "    \"\"\"\n",
        "    Unzip wrapper with the same interface as _ungzip\n",
        "    :param save_path: The path of the gzip files\n",
        "    :param database_name: Name of database\n",
        "    :param data_path: Path to extract to\n",
        "    :param _: HACK - Used to have to same interface as _ungzip\n",
        "    \"\"\"\n",
        "    print('Extracting {}...'.format(database_name))\n",
        "    with zipfile.ZipFile(save_path) as zf:\n",
        "        zf.extractall(data_path)\n",
        "\n",
        "\n",
        "def _ungzip(save_path, extract_path, database_name, _):\n",
        "    \"\"\"\n",
        "    Unzip a gzip file and extract it to extract_path\n",
        "    :param save_path: The path of the gzip files\n",
        "    :param extract_path: The location to extract the data to\n",
        "    :param database_name: Name of database\n",
        "    :param _: HACK - Used to have to same interface as _unzip\n",
        "    \"\"\"\n",
        "    # Get data from save_path\n",
        "    with open(save_path, 'rb') as f:\n",
        "        with gzip.GzipFile(fileobj=f) as bytestream:\n",
        "            magic = _read32(bytestream)\n",
        "            if magic != 2051:\n",
        "                raise ValueError('Invalid magic number {} in file: {}'.format(magic, f.name))\n",
        "            num_images = _read32(bytestream)\n",
        "            rows = _read32(bytestream)\n",
        "            cols = _read32(bytestream)\n",
        "            buf = bytestream.read(rows * cols * num_images)\n",
        "            data = np.frombuffer(buf, dtype=np.uint8)\n",
        "            data = data.reshape(num_images, rows, cols)\n",
        "\n",
        "    # Save data to extract_path\n",
        "    for image_i, image in enumerate(tqdm(data, unit='File', unit_scale=True, miniters=1, desc='Extracting {}'.format(database_name))):\n",
        "        Image.fromarray(image, 'L').save(os.path.join(extract_path, 'image_{}.jpg'.format(image_i)))\n",
        "\n",
        "\n",
        "def get_image(image_path, width, height, mode):\n",
        "    \"\"\"\n",
        "    Read image from image_path\n",
        "    :param image_path: Path of image\n",
        "    :param width: Width of image\n",
        "    :param height: Height of image\n",
        "    :param mode: Mode of image\n",
        "    :return: Image data\n",
        "    \"\"\"\n",
        "    image = Image.open(image_path)\n",
        "\n",
        "    if image.size != (width, height):\n",
        "        # Remove most pixels that aren't part of a face\n",
        "        face_width = face_height = 108\n",
        "        j = (image.size[0] - face_width) // 2\n",
        "        i = (image.size[1] - face_height) // 2\n",
        "        image = image.crop([j, i, j + face_width, i + face_height])\n",
        "        image = image.resize([width, height], Image.BILINEAR)\n",
        "\n",
        "    return np.array(image.convert(mode))\n",
        "\n",
        "\n",
        "def get_batch(image_files, width, height, mode):\n",
        "    data_batch = np.array([get_image(sample_file, width, height, mode) for sample_file in image_files]).astype(np.float32)\n",
        "\n",
        "    # Make sure the images are in 4 dimensions\n",
        "    if len(data_batch.shape) < 4:\n",
        "        data_batch = data_batch.reshape(data_batch.shape + (1,))\n",
        "\n",
        "    return data_batch\n",
        "\n",
        "\n",
        "def images_square_grid(images, mode='RGB'):\n",
        "    \"\"\"\n",
        "    Save images as a square grid\n",
        "    :param images: Images to be used for the grid\n",
        "    :param mode: The mode to use for images\n",
        "    :return: Image of images in a square grid\n",
        "    \"\"\"\n",
        "    # Get maximum size for square grid of images\n",
        "    save_size = math.floor(np.sqrt(images.shape[0]))\n",
        "\n",
        "    # Scale to 0-255\n",
        "    images = (((images - images.min()) * 255) / (images.max() - images.min())).astype(np.uint8)\n",
        "\n",
        "    # Put images in a square arrangement\n",
        "    images_in_square = np.reshape(images[:save_size*save_size], (save_size, save_size, images.shape[1], images.shape[2], images.shape[3]))\n",
        "\n",
        "    # Combine images to grid image\n",
        "    new_im = Image.new(mode, (images.shape[1] * save_size, images.shape[2] * save_size))\n",
        "    for col_i, col_images in enumerate(images_in_square):\n",
        "        for image_i, image in enumerate(col_images):\n",
        "            im = Image.fromarray(image, mode)\n",
        "            new_im.paste(im, (col_i * images.shape[1], image_i * images.shape[2]))\n",
        "\n",
        "    return new_im\n",
        "\n",
        "\n",
        "def download_extract(database_name, data_path):\n",
        "    \"\"\"\n",
        "    Download and extract database\n",
        "    :param database_name: Database name\n",
        "    \"\"\"\n",
        "    database_name = 'celeba'\n",
        "\n",
        "    url = 'https://s3-us-west-1.amazonaws.com/udacity-dlnfd/datasets/celeba.zip'\n",
        "    hash_code = '00d2c5bc6d35e252742224ab0c1e8fcb'\n",
        "    extract_path = os.path.join(data_path, 'img_align_celeba')\n",
        "    save_path = os.path.join(data_path, 'celeba.zip')\n",
        "    extract_fn = _unzip\n",
        "    \n",
        "    if os.path.exists(extract_path):\n",
        "        print('Found {} Data'.format(database_name))\n",
        "        return\n",
        "\n",
        "    if not os.path.exists(data_path):\n",
        "        os.makedirs(data_path)\n",
        "\n",
        "    if not os.path.exists(save_path):\n",
        "        with DLProgress(unit='B', unit_scale=True, miniters=1, desc='Downloading {}'.format(database_name)) as pbar:\n",
        "            urlretrieve(url, save_path, pbar.hook)\n",
        "\n",
        "    assert hashlib.md5(open(save_path, 'rb').read()).hexdigest() == hash_code, '{} file is corrupted.  Remove the file and try again.'.format(save_path)\n",
        "\n",
        "    os.makedirs(extract_path)\n",
        "    try:\n",
        "        extract_fn(save_path, extract_path, database_name, data_path)\n",
        "    except Exception as err:\n",
        "        shutil.rmtree(extract_path)  # Remove extraction folder if there is an error\n",
        "        raise err\n",
        "\n",
        "    # Remove compressed data\n",
        "    os.remove(save_path)\n",
        "\n",
        "\n",
        "class Dataset(object):\n",
        "    \"\"\"\n",
        "    Dataset\n",
        "    \"\"\"\n",
        "    def __init__(self, dataset_name, data_files):\n",
        "        \"\"\"\n",
        "        Initalize the class\n",
        "        :param dataset_name: Database name\n",
        "        :param data_files: List of files in the database\n",
        "        \"\"\"\n",
        "        DATASET_CELEBA_NAME = 'celeba'\n",
        "        IMAGE_WIDTH = IMAGE_HEIGHT = 56\n",
        "        image_channels = 3\n",
        "        \n",
        "        self.image_mode = 'RGB'\n",
        "        self.data_files = data_files\n",
        "        self.shape = len(data_files), IMAGE_WIDTH, IMAGE_HEIGHT, image_channels\n",
        "\n",
        "    def get_batches(self, batch_size):\n",
        "        \"\"\"\n",
        "        Generate batches\n",
        "        :param batch_size: Batch Size\n",
        "        :return: Batches of data\n",
        "        \"\"\"\n",
        "        IMAGE_MAX_VALUE = 255\n",
        "\n",
        "        current_index = 0\n",
        "        while current_index + batch_size <= self.shape[0]:\n",
        "            data_batch = get_batch(self.data_files[current_index:current_index + batch_size], *self.shape[1:3], self.image_mode)\n",
        "            current_index += batch_size\n",
        "            yield data_batch / IMAGE_MAX_VALUE - 0.5\n",
        "\n",
        "\n",
        "class DLProgress(tqdm):\n",
        "    \"\"\"\n",
        "    Handle Progress Bar while Downloading\n",
        "    \"\"\"\n",
        "    last_block = 0\n",
        "\n",
        "    def hook(self, block_num=1, block_size=1, total_size=None):\n",
        "        \"\"\"\n",
        "        A hook function that will be called once on establishment of the network connection and\n",
        "        once after each block read thereafter.\n",
        "        :param block_num: A count of blocks transferred so far\n",
        "        :param block_size: Block size in bytes\n",
        "        :param total_size: The total size of the file. This may be -1 on older FTP servers which do not return\n",
        "                            a file size in response to a retrieval request.\n",
        "        \"\"\"\n",
        "        self.total = total_size\n",
        "        self.update((block_num - self.last_block) * block_size)\n",
        "        self.last_block = block_num"
      ],
      "execution_count": 0,
      "outputs": []
    },
    {
      "cell_type": "markdown",
      "metadata": {
        "id": "O6B3hlhPQL5j",
        "colab_type": "text"
      },
      "source": [
        "Extract data using above functions and plot an image grid of 9 images taken from the dataset."
      ]
    },
    {
      "cell_type": "code",
      "metadata": {
        "id": "HbwKC1rXAySy",
        "colab_type": "code",
        "colab": {}
      },
      "source": [
        "data_dir = '/input'\n",
        "download_extract('celeba', data_dir)\n",
        "\n",
        "image_size = 56\n",
        "plt.figure(figsize=(10, 10))\n",
        "images = get_batch(glob(os.path.join(data_dir, 'img_align_celeba/*.jpg'))[:9], image_size, image_size, 'RGB')\n",
        "plt.imshow(images_square_grid(images))\n",
        "plt.show()"
      ],
      "execution_count": 0,
      "outputs": []
    },
    {
      "cell_type": "markdown",
      "metadata": {
        "id": "EgDMMejWQ2C7",
        "colab_type": "text"
      },
      "source": [
        "### **2. Build Generative Adversarial Network model**"
      ]
    },
    {
      "cell_type": "markdown",
      "metadata": {
        "id": "xXCTw5W3RJZ7",
        "colab_type": "text"
      },
      "source": [
        "**Input**\n",
        "\n",
        "Implement the *model_inputs* function to create TF Placeholders for the Neural Network."
      ]
    },
    {
      "cell_type": "code",
      "metadata": {
        "id": "cPMFZ7eDCD2E",
        "colab_type": "code",
        "colab": {}
      },
      "source": [
        "def model_inputs(image_width, image_height, image_channels, z_dim):\n",
        "\t\"\"\"\n",
        "\tCreate the model inputs\n",
        "\t:param image_width: The input image width\n",
        "\t:param image_height: The input image height\n",
        "\t:param image_channels: The number of image channels\n",
        "\t:param z_dim: The dimension of Z\n",
        "\t:return: Tuple of (tensor of real input images, tensor of z data, learning rate)\n",
        "\t\"\"\"\n",
        "\treal_input_images = tf.placeholder(tf.float32, [None, image_width, image_height, image_channels], 'real_input_images')\n",
        "\tinput_z = tf.placeholder(tf.float32, [None, z_dim], 'input_z')\n",
        "\tlearning_rate = tf.placeholder(tf.float32, [], 'learning_rate')\n",
        "\treturn real_input_images, input_z, learning_rate"
      ],
      "execution_count": 0,
      "outputs": []
    },
    {
      "cell_type": "markdown",
      "metadata": {
        "id": "xOe2YG1tRUfT",
        "colab_type": "text"
      },
      "source": [
        "**Discriminator**\n",
        "\n",
        "Implement *discriminator* to create a discriminator neural network that discriminates on images."
      ]
    },
    {
      "cell_type": "code",
      "metadata": {
        "id": "LkT6y52_CIa_",
        "colab_type": "code",
        "colab": {}
      },
      "source": [
        "def discriminator(images, reuse=False, alpha=0.2, keep_prob=0.5):\n",
        "    \"\"\"\n",
        "    Create the discriminator network\n",
        "    :param images: Tensor of input image(s)\n",
        "    :param reuse: Boolean if the weights should be reused\n",
        "    :return: Tuple of (tensor output of the discriminator, tensor logits of the discriminator)\n",
        "    \"\"\"\n",
        "    with tf.variable_scope('discriminator', reuse=reuse):\n",
        "        # Convolutional layer: input -> 56x56, output -> 28x28\n",
        "        conv1 = tf.layers.conv2d(images, 64, 5, 2, padding='same', kernel_initializer=tf.contrib.layers.xavier_initializer())\n",
        "        lrelu1 = tf.maximum(alpha * conv1, conv1)\n",
        "        drop1 = tf.layers.dropout(lrelu1, keep_prob)\n",
        "        \n",
        "        # Strided convolutional layer: input -> 28x28, output -> 14x14\n",
        "        conv2 = tf.layers.conv2d(drop1, 128, 5, 2, 'same', use_bias=False)\n",
        "        bn2 = tf.layers.batch_normalization(conv2)\n",
        "        lrelu2 = tf.maximum(alpha * bn2, bn2)\n",
        "        drop2 = tf.layers.dropout(lrelu2, keep_prob)\n",
        "        \n",
        "        # Strided convolutional layer: input -> 14x14, output -> 7x7\n",
        "        conv3 = tf.layers.conv2d(drop2, 256, 5, 2, 'same', use_bias=False)\n",
        "        bn3 = tf.layers.batch_normalization(conv3)\n",
        "        lrelu3 = tf.maximum(alpha * bn3, bn3)\n",
        "        drop3 = tf.layers.dropout(lrelu3, keep_prob)\n",
        "\n",
        "        # Strided convolutional layer: input -> 7x7, output -> 4x4\n",
        "        conv4 = tf.layers.conv2d(drop3, 512, 5, 2, 'same', use_bias=False)\n",
        "        bn4 = tf.layers.batch_normalization(conv4)\n",
        "        lrelu4 = tf.maximum(alpha * bn4, bn4)\n",
        "        drop4 = tf.layers.dropout(lrelu4, keep_prob)\n",
        "        \n",
        "        # Fully connected: input -> 4x4, output -> 1\n",
        "        flat = tf.reshape(drop4, (-1, 4*4*1024))\n",
        "        logits = tf.layers.dense(flat, 1)\n",
        "        out = tf.sigmoid(logits)\n",
        "        \n",
        "        return out, logits"
      ],
      "execution_count": 0,
      "outputs": []
    },
    {
      "cell_type": "markdown",
      "metadata": {
        "id": "1kyax6iFRnwi",
        "colab_type": "text"
      },
      "source": [
        "**Generator**\n",
        "\n",
        "Implement *generator* to generate an image using z."
      ]
    },
    {
      "cell_type": "code",
      "metadata": {
        "id": "LvqLM0rpCKy8",
        "colab_type": "code",
        "colab": {}
      },
      "source": [
        "def generator(z, out_channel_dim, is_train=True, alpha=0.2, keep_prob=0.5):\n",
        "    \"\"\"\n",
        "    Create the generator network\n",
        "    :param z: Input z\n",
        "    :param out_channel_dim: The number of channels in the output image\n",
        "    :param is_train: Boolean if generator is being used for training\n",
        "    :return: The tensor output of the generator\n",
        "    \"\"\"\n",
        "    with tf.variable_scope('generator', reuse=(not is_train)):\n",
        "        # Fully connected: input -> 100, output -> 4x4\n",
        "        fc = tf.layers.dense(z, 4*4*1024, use_bias=False)\n",
        "        fc = tf.reshape(fc, (-1, 4, 4, 1024))\n",
        "        bn0 = tf.layers.batch_normalization(fc, training=is_train)\n",
        "        lrelu0 = tf.maximum(alpha * bn0, bn0)\n",
        "        drop0 = tf.layers.dropout(lrelu0, keep_prob, training=is_train)\n",
        "        \n",
        "        # Deconvolution: input -> 4x4, output -> 7x7\n",
        "        conv1 = tf.layers.conv2d_transpose(drop0, 512, 4, 1, 'valid', use_bias=False)\n",
        "        bn1 = tf.layers.batch_normalization(conv1, training=is_train)\n",
        "        lrelu1 = tf.maximum(alpha * bn1, bn1)\n",
        "        drop1 = tf.layers.dropout(lrelu1, keep_prob, training=is_train)\n",
        "        \n",
        "        # Deconvolution: input -> 7x7, output -> 14x14\n",
        "        conv2 = tf.layers.conv2d_transpose(drop1, 256, 5, 2, 'same', use_bias=False)\n",
        "        bn2 = tf.layers.batch_normalization(conv2, training=is_train)\n",
        "        lrelu2 = tf.maximum(alpha * bn2, bn2)\n",
        "        drop2 = tf.layers.dropout(lrelu2, keep_prob, training=is_train)\n",
        "\n",
        "        # Deconvolution: input -> 14x14, output -> 28x28\n",
        "        conv3 = tf.layers.conv2d_transpose(drop2, 128, 5, 2, 'same', use_bias=False)\n",
        "        bn3 = tf.layers.batch_normalization(conv3, training=is_train)\n",
        "        lrelu3 = tf.maximum(alpha * bn3, bn3)\n",
        "        drop3 = tf.layers.dropout(lrelu3, keep_prob, training=is_train)\n",
        "        \n",
        "        # Output layer: input -> 28x28, output -> 56x56\n",
        "        logits = tf.layers.conv2d_transpose(drop3, out_channel_dim, 5, 2, 'same')\n",
        "        out = tf.tanh(logits)\n",
        "        \n",
        "        return out"
      ],
      "execution_count": 0,
      "outputs": []
    },
    {
      "cell_type": "markdown",
      "metadata": {
        "id": "o-bJf3OQRuW8",
        "colab_type": "text"
      },
      "source": [
        "**Loss**\n",
        "\n",
        "Implement *model_loss* to build the GAN for training and calculate the loss."
      ]
    },
    {
      "cell_type": "code",
      "metadata": {
        "id": "_yqV6oX_CMqW",
        "colab_type": "code",
        "colab": {}
      },
      "source": [
        "def model_loss(input_real, input_z, out_channel_dim, alpha=0.2, smooth_factor=0.1):\n",
        "    \"\"\"\n",
        "    Get the loss for the discriminator and generator\n",
        "    :param input_real: Images from the real dataset\n",
        "    :param input_z: Z input\n",
        "    :param out_channel_dim: The number of channels in the output image\n",
        "    :return: A tuple of (discriminator loss, generator loss)\n",
        "    \"\"\"\n",
        "\n",
        "    d_model_real, d_logits_real = discriminator(input_real, alpha=alpha)\n",
        "    d_loss_real = tf.reduce_mean(tf.nn.sigmoid_cross_entropy_with_logits(logits=d_logits_real, labels=tf.ones_like(d_model_real) * (1 - smooth_factor)))\n",
        "    \n",
        "    input_fake = generator(input_z, out_channel_dim, alpha=alpha)\n",
        "\n",
        "    d_model_fake, d_logits_fake = discriminator(input_fake, reuse=True, alpha=alpha)\n",
        "    d_loss_fake = tf.reduce_mean(tf.nn.sigmoid_cross_entropy_with_logits(logits=d_logits_fake, labels=tf.zeros_like(d_model_fake)))\n",
        "    \n",
        "    g_loss = tf.reduce_mean(tf.nn.sigmoid_cross_entropy_with_logits(logits=d_logits_fake, labels=tf.ones_like(d_model_fake)))\n",
        "\n",
        "    return d_loss_real + d_loss_fake, g_loss"
      ],
      "execution_count": 0,
      "outputs": []
    },
    {
      "cell_type": "markdown",
      "metadata": {
        "id": "r7UNHPCBR1Uk",
        "colab_type": "text"
      },
      "source": [
        "**Optimizer**\n",
        "\n",
        "Implement model_opt to create the optimization operations for the GAN."
      ]
    },
    {
      "cell_type": "code",
      "metadata": {
        "id": "aJPwtFy1COB6",
        "colab_type": "code",
        "colab": {}
      },
      "source": [
        "def model_opt(d_loss, g_loss, learning_rate, beta1):\n",
        "    \"\"\"\n",
        "    Get optimization operations\n",
        "    :param d_loss: Discriminator loss Tensor\n",
        "    :param g_loss: Generator loss Tensor\n",
        "    :param learning_rate: Learning Rate Placeholder\n",
        "    :param beta1: The exponential decay rate for the 1st moment in the optimizer\n",
        "    :return: A tuple of (discriminator training operation, generator training operation)\n",
        "    \"\"\"\n",
        "    # Get weights and bias to update\n",
        "    t_vars = tf.trainable_variables()\n",
        "    d_vars = [var for var in t_vars if var.name.startswith('discriminator')]\n",
        "    g_vars = [var for var in t_vars if var.name.startswith('generator')]\n",
        "\n",
        "    # Optimize\n",
        "    with tf.control_dependencies(tf.get_collection(tf.GraphKeys.UPDATE_OPS)):\n",
        "        d_train_opt = tf.train.AdamOptimizer(learning_rate, beta1=beta1).minimize(d_loss, var_list=d_vars)\n",
        "        g_train_opt = tf.train.AdamOptimizer(learning_rate, beta1=beta1).minimize(g_loss, var_list=g_vars)\n",
        "\n",
        "    return d_train_opt, g_train_opt"
      ],
      "execution_count": 0,
      "outputs": []
    },
    {
      "cell_type": "markdown",
      "metadata": {
        "id": "fUmFc-kRSLn6",
        "colab_type": "text"
      },
      "source": [
        "### **3. Train Generative Adversarial Network model**"
      ]
    },
    {
      "cell_type": "markdown",
      "metadata": {
        "id": "ojCTqSPmSSOj",
        "colab_type": "text"
      },
      "source": [
        "**Show Output**\n",
        "\n",
        "Use *show_generator_output* function to show the current output of the generator during training and to determine how well the GAN is training."
      ]
    },
    {
      "cell_type": "code",
      "metadata": {
        "id": "p07KIUUhCPuY",
        "colab_type": "code",
        "colab": {}
      },
      "source": [
        "def show_generator_output(sess, n_images, input_z, out_channel_dim, image_mode):\n",
        "    \"\"\"\n",
        "    Show example output for the generator\n",
        "    :param sess: TensorFlow session\n",
        "    :param n_images: Number of Images to display\n",
        "    :param input_z: Input Z Tensor\n",
        "    :param out_channel_dim: The number of channels in the output image\n",
        "    :param image_mode: The mode to use for images\n",
        "    \"\"\"\n",
        "    cmap = None\n",
        "    z_dim = input_z.get_shape().as_list()[-1]\n",
        "    example_z = np.random.normal(0, 1, size=[n_images, z_dim])\n",
        "    samples = sess.run(generator(input_z, out_channel_dim, False), feed_dict={input_z: example_z})\n",
        "    images_grid = images_square_grid(samples, image_mode)\n",
        "    return images_grid"
      ],
      "execution_count": 0,
      "outputs": []
    },
    {
      "cell_type": "markdown",
      "metadata": {
        "id": "usYMZTL4SgAh",
        "colab_type": "text"
      },
      "source": [
        "**Train**\n",
        "\n",
        "Use *train* to build and train the GAN. Note that the function also saves 500 grid images produced by the fully-trained GAN, and plots the loss curves of the generator and discriminator."
      ]
    },
    {
      "cell_type": "code",
      "metadata": {
        "id": "fa-7FENXCRgw",
        "colab_type": "code",
        "colab": {}
      },
      "source": [
        "def train(epoch_count, batch_size, z_dim, learning_rate, beta1, get_batches, data_shape, data_image_mode, print_every=10, show_every=100):\n",
        "    \"\"\"\n",
        "    Train the GAN\n",
        "    :param epoch_count: Number of epochs\n",
        "    :param batch_size: Batch Size\n",
        "    :param z_dim: Z dimension\n",
        "    :param learning_rate: Learning Rate\n",
        "    :param beta1: The exponential decay rate for the 1st moment in the optimizer\n",
        "    :param get_batches: Function to get batches\n",
        "    :param data_shape: Shape of the data\n",
        "    :param data_image_mode: The image mode to use for images\n",
        "    \"\"\"\n",
        "    input_real, input_z, _ = model_inputs(data_shape[1], data_shape[2], data_shape[3], z_dim)\n",
        "    d_loss, g_loss = model_loss(input_real, input_z, data_shape[3], alpha=0.2)\n",
        "    d_train_opt, g_train_opt = model_opt(d_loss, g_loss, learning_rate, beta1)\n",
        "    \n",
        "    saver = tf.train.Saver()\n",
        "    sample_z = np.random.normal(0, 1, size=(72, z_dim))\n",
        "    samples, losses = [], []\n",
        "    steps, count = 0, 0\n",
        "\n",
        "    with tf.Session() as sess:\n",
        "        saver = tf.train.Saver()\n",
        "        sess.run(tf.global_variables_initializer())\n",
        "        save_path = saver.save(sess, \"/tmp/model.ckpt\")\n",
        "        ckpt = tf.train.latest_checkpoint('./model/')\n",
        "        saver.restore(sess, save_path)\n",
        "        coord = tf.train.Coordinator()\n",
        "        threads = tf.train.start_queue_runners(sess=sess, coord=coord)\n",
        "\n",
        "        if os.path.exists('output') is False:\n",
        "            os.mkdir('output')\n",
        "\n",
        "        for epoch_i in range(epoch_count):\n",
        "            for batch_images in get_batches(batch_size):\n",
        "                steps += 1\n",
        "\n",
        "                # Scaling the batch_images by 2 (from -0.5 to 0.5 up to -1 to 1)\n",
        "                batch_images *= 2.0\n",
        "                \n",
        "                # Sample random noise from a normal (gaussian) distribution for the generator\n",
        "                batch_z = np.random.normal(0, 1, size=(batch_size, z_dim))\n",
        "                \n",
        "                # Run optimizers\n",
        "                sess.run(d_train_opt, feed_dict={input_real: batch_images, input_z: batch_z})\n",
        "                sess.run(g_train_opt, feed_dict={input_z: batch_z})\n",
        "                \n",
        "                # At the end of each step, get the losses and print them out\n",
        "                if steps % print_every == 0:\n",
        "                    train_loss_d = d_loss.eval({input_real: batch_images, input_z: batch_z})\n",
        "                    train_loss_g = g_loss.eval({input_z: batch_z})\n",
        "                    print(\"Epoch {}/{} Step {}...\".format(epoch_i+1, epoch_count, steps),\n",
        "                          \"Discriminator Loss: {:.4f}...\".format(train_loss_d),\n",
        "                          \"Generator Loss: {:.4f}\".format(train_loss_g))\n",
        "\n",
        "                # Show example output for the generator\n",
        "                if steps % show_every == 10:\n",
        "                    count = count + 1\n",
        "                    iterr = count * show_every\n",
        "                    plt.imshow(show_generator_output(sess, 9, input_z, data_shape[3], data_image_mode))\n",
        "                    plt.show()\n",
        "                    \n",
        "            # saving the model after each epoch\n",
        "            if not os.path.exists('./model/'):\n",
        "                os.makedirs('./model')\n",
        "            saver.save(sess, './model/' + str(epoch_i))\n",
        "\n",
        "            # compute and save 500 image grids using the final model\n",
        "            if epoch_i == epoch_count - 1:\n",
        "                print('Finished Training')\n",
        "                print('Saving 500 image grids')\n",
        "                for i in range (1, 501):\n",
        "                    count += 1\n",
        "                    iterr = count * show_every\n",
        "                    images_grid = show_generator_output(sess, 9, input_z, data_shape[3], data_image_mode)\n",
        "                    plt.figure()\n",
        "                    plt.imshow(images_grid)\n",
        "                    plt.savefig(os.path.join('/content/output/{:03d}_image.png'.format(i)))\n",
        "                    plt.close()"
      ],
      "execution_count": 0,
      "outputs": []
    },
    {
      "cell_type": "markdown",
      "metadata": {
        "id": "aol7EkKMTKX5",
        "colab_type": "text"
      },
      "source": [
        "### **4. Run Generative Adversarial Network model**"
      ]
    },
    {
      "cell_type": "markdown",
      "metadata": {
        "id": "Q0fdzAEZTG1t",
        "colab_type": "text"
      },
      "source": [
        "Run the GAN on CelebA."
      ]
    },
    {
      "cell_type": "code",
      "metadata": {
        "id": "DWMUAj1oCTtr",
        "colab_type": "code",
        "colab": {}
      },
      "source": [
        "batch_size = 64\n",
        "z_dim = 100\n",
        "learning_rate = 0.00025\n",
        "beta1 = 0.45\n",
        "epochs = 10\n",
        "\n",
        "celeba_dataset = Dataset('celeba', glob(os.path.join(data_dir, 'img_align_celeba/*.jpg')))\n",
        "\n",
        "with tf.Graph().as_default():\n",
        "    train(epochs, batch_size, z_dim, learning_rate, beta1, celeba_dataset.get_batches, celeba_dataset.shape, celeba_dataset.image_mode)"
      ],
      "execution_count": 0,
      "outputs": []
    },
    {
      "cell_type": "code",
      "metadata": {
        "id": "C-VD6LYiBGuy",
        "colab_type": "code",
        "colab": {}
      },
      "source": [
        ""
      ],
      "execution_count": 0,
      "outputs": []
    }
  ]
}